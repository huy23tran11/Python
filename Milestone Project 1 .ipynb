{
 "cells": [
  {
   "cell_type": "markdown",
   "metadata": {},
   "source": [
    "Tic tac toe"
   ]
  },
  {
   "cell_type": "code",
   "execution_count": 1,
   "metadata": {},
   "outputs": [],
   "source": [
    "def Intro_asking():\n",
    "    print('Welcome to Tic Tac Toe')\n",
    "    while(1):\n",
    "        result = input('Do you want to be X or O ?')\n",
    "        result=result.upper()\n",
    "        if result ==\"X\"or result ==\"O\":\n",
    "            print(f'{result} go first')\n",
    "            while (1):\n",
    "                answ=input('are u ready to play ? yes/no')\n",
    "                if answ.lower() == 'yes':\n",
    "                    break\n",
    "                else:\n",
    "                    continue\n",
    "            if (result =='X'): \n",
    "                return ['X','O']\n",
    "            else:\n",
    "                return ['O','X'] \n",
    "        else:\n",
    "                print('nhap lai thang NGU ')\n",
    "                continue "
   ]
  },
  {
   "cell_type": "code",
   "execution_count": 2,
   "metadata": {},
   "outputs": [],
   "source": [
    "def print_board(board):\n",
    "    print('   |   |   ')\n",
    "    print(' '+board[1]+' '+'|'+' '+board[2]+' '+'|'+' '+board[3]+' ')\n",
    "    print('   |   |   ')\n",
    "    print('-----------')\n",
    "    print('   |   |   ')\n",
    "    print(' '+board[4]+' '+'|'+' '+board[5]+' '+'|'+' '+board[6]+' ')\n",
    "    print('   |   |   ')\n",
    "    print('-----------')    \n",
    "    print('   |   |   ')\n",
    "    print(' '+board[7]+' '+'|'+' '+board[8]+' '+'|'+' '+board[9]+' ')\n",
    "    print('   |   |   ')   "
   ]
  },
  {
   "cell_type": "code",
   "execution_count": 3,
   "metadata": {},
   "outputs": [],
   "source": [
    "def player_input(marker, position,board):\n",
    "    board[position] = marker"
   ]
  },
  {
   "cell_type": "code",
   "execution_count": 4,
   "metadata": {},
   "outputs": [],
   "source": [
    "def check_win(board,marker):\n",
    "    return (board[1]==marker and board[2]==marker and board[3]==marker) or (board[4]==marker and board[5]==marker and board[6]==marker) or(board[7]==marker and board[8]==marker and board[9]==marker) or(board[1]==marker and board[4]==marker and board[7]==marker) or (board[2]==marker and board[5]==marker and board[8]==marker) or (board[3]==marker and board[6]==marker and board[9]==marker) or (board[1]==marker and board[5]==marker and board[9]==marker) or (board[3]==marker and board[5]==marker and board[7]==marker )\n"
   ]
  },
  {
   "cell_type": "code",
   "execution_count": 5,
   "metadata": {},
   "outputs": [],
   "source": [
    "def check_overlap(board,position):\n",
    "    return board[position]== \"X\" or board[position]== \"O\""
   ]
  },
  {
   "cell_type": "code",
   "execution_count": 6,
   "metadata": {},
   "outputs": [],
   "source": [
    "def check_full (board):\n",
    "    return board[0] !=' 'and board[1] !=' 'and board[2] !=' 'and board[3] !=' 'and board[4] !=' 'and board[5] !=' 'and board[6] !=' 'and board[7] !=' 'and board[8] !=' 'and board[9] !=' '"
   ]
  },
  {
   "cell_type": "code",
   "execution_count": null,
   "metadata": {},
   "outputs": [],
   "source": []
  },
  {
   "cell_type": "code",
   "execution_count": null,
   "metadata": {},
   "outputs": [
    {
     "name": "stdout",
     "output_type": "stream",
     "text": [
      "Welcome to Tic Tac Toe\n",
      "Do you want to be X or O ?x\n",
      "X go first\n",
      "are u ready to play ? yes/noyes\n",
      "   |   |   \n",
      " 1 | 2 | 3 \n",
      "   |   |   \n",
      "-----------\n",
      "   |   |   \n",
      " 4 | 5 | 6 \n",
      "   |   |   \n",
      "-----------\n",
      "   |   |   \n",
      " 7 | 8 | 9 \n",
      "   |   |   \n",
      "muon di cho nao ?1\n"
     ]
    }
   ],
   "source": [
    "order = Intro_asking()\n",
    "board=board=['@',\"1\",\"2\",\"3\",\"4\",\"5\",\"6\",\"7\",\"8\",\"9\"]\n",
    "turn = 1 \n",
    "print_board(board)\n",
    "while(1):\n",
    "    position = int(input('muon di cho nao ?'))\n",
    "    if turn%2==0: \n",
    "        move = order[1]\n",
    "    else:\n",
    "        move = order[0]\n",
    "    if check_overlap(board,position):\n",
    "        player_input(move, position,board)\n",
    "        print_board(board)\n",
    "    else:\n",
    "        continue\n",
    "    if check_win(board,move):\n",
    "        print(f'thang {move} thang roi')\n",
    "        break\n",
    "    else:\n",
    "        pass\n",
    "    if check_full(board):\n",
    "        print('hoa roi....')\n",
    "        break\n",
    "    else:\n",
    "        pass\n",
    "    turn+=1"
   ]
  },
  {
   "cell_type": "code",
   "execution_count": null,
   "metadata": {},
   "outputs": [],
   "source": []
  },
  {
   "cell_type": "code",
   "execution_count": null,
   "metadata": {},
   "outputs": [],
   "source": []
  }
 ],
 "metadata": {
  "kernelspec": {
   "display_name": "Python 3",
   "language": "python",
   "name": "python3"
  },
  "language_info": {
   "codemirror_mode": {
    "name": "ipython",
    "version": 3
   },
   "file_extension": ".py",
   "mimetype": "text/x-python",
   "name": "python",
   "nbconvert_exporter": "python",
   "pygments_lexer": "ipython3",
   "version": "3.6.5"
  }
 },
 "nbformat": 4,
 "nbformat_minor": 2
}
